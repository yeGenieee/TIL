{
 "cells": [
  {
   "cell_type": "code",
   "execution_count": 8,
   "metadata": {},
   "outputs": [],
   "source": [
    "from selenium import webdriver\n",
    "from selenium.webdriver.support.ui import WebDriverWait\n",
    "from selenium.webdriver.support import expected_conditions as EC\n",
    "from selenium.webdriver.common.by import By\n",
    "import time\n",
    "\n",
    "driver = webdriver.Chrome('/usr/local/Cellar/chromedriver/chromedriver')\n",
    "driver.get('https://www.facebook.com/')\n",
    "\n",
    "user_name = 'tenial@korea.ac.kr'\n",
    "password = 'funcoding'\n",
    "\n",
    "email_id = \"//*[@id='email']\"\n",
    "pwd_id = \"//*[@id='pass']\"\n",
    "login_btn = \"//*[@id='u_0_e']\"\n",
    "\n",
    "email_tag = WebDriverWait(driver, 10).until(EC.presence_of_element_located((By.XPATH, email_id)))\n",
    "password_tag = WebDriverWait(driver, 10).until(EC.presence_of_element_located((By.XPATH, pwd_id)))\n",
    "login_button_tag = WebDriverWait(driver, 10).until(EC.presence_of_element_located((By.XPATH, login_btn)))\n",
    "\n",
    "email_tag.clear()\n",
    "email_tag.send_keys(user_name)\n",
    "\n",
    "password_tag.clear()\n",
    "password_tag.send_keys(password)\n",
    "\n",
    "login_button_tag.click()\n",
    "\n",
    "time.sleep(5)\n",
    "\n",
    "driver.quit()"
   ]
  },
  {
   "cell_type": "code",
   "execution_count": null,
   "metadata": {},
   "outputs": [],
   "source": []
  },
  {
   "cell_type": "code",
   "execution_count": null,
   "metadata": {},
   "outputs": [],
   "source": []
  }
 ],
 "metadata": {
  "kernelspec": {
   "display_name": "Python 3",
   "language": "python",
   "name": "python3"
  },
  "language_info": {
   "codemirror_mode": {
    "name": "ipython",
    "version": 3
   },
   "file_extension": ".py",
   "mimetype": "text/x-python",
   "name": "python",
   "nbconvert_exporter": "python",
   "pygments_lexer": "ipython3",
   "version": "3.7.4"
  }
 },
 "nbformat": 4,
 "nbformat_minor": 2
}
