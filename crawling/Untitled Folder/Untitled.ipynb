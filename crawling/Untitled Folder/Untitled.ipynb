{
 "cells": [
  {
   "cell_type": "code",
   "execution_count": 13,
   "metadata": {},
   "outputs": [],
   "source": [
    "#-*- coding:utf-8 -*-\n",
    "from selenium import webdriver\n",
    "from selenium.webdriver.common.keys import Keys\n",
    "import time\n",
    "\n",
    "chromedriver = '/usr/local/Cellar/chromedriver/chromedriver'\n",
    "headless_options = webdriver.ChromeOptions()\n",
    "# headless_options.add_argument('headless')\n",
    "# headless_options.add_argument('window-size=1920x1080')\n",
    "# headless_options.add_argument(\"disable-gpu\")\n",
    "# headless_options.add_argument(\"User-Agent: Mozilla/5.0 (Macintosh; Intel Mac OS X 10_14_4) AppleWebKit/537.36\")\n",
    "# headless_options.add_argument(\"lang=ko_KR\")\n",
    "\n",
    "driver = webdriver.Chrome(chromedriver, options=headless_options)\n",
    "\n",
    "driver.get('https://map.kakao.com/')\n",
    "\n",
    "# search_element.clear()\n",
    "\n",
    "time.sleep(2)\n",
    "\n",
    "search_element = driver.find_element_by_id(\"login-email-input\")\n",
    "id_field.clear()\n",
    "id_field.send_keys('아니')\n",
    "\n",
    "search_element.send_keys(\"cafe\")\n",
    "search_element.send_keys(Keys.RETURN)\n",
    "\n",
    "driver.quit()\n"
   ]
  },
  {
   "cell_type": "code",
   "execution_count": null,
   "metadata": {},
   "outputs": [],
   "source": [
    "#search\\.keyword > fieldset > div.box_searchbar\n",
    "\n",
    "#search\\.keyword\\.query\n",
    "\n",
    "<input type=\"text\" id=\"search.keyword.query\" name=\"q\" class=\"query tf_keyword bg_on\" maxlength=\"100\" autocomplete=\"off\" accesskey=\"s\">"
   ]
  }
 ],
 "metadata": {
  "kernelspec": {
   "display_name": "Python 3",
   "language": "python",
   "name": "python3"
  },
  "language_info": {
   "codemirror_mode": {
    "name": "ipython",
    "version": 3
   },
   "file_extension": ".py",
   "mimetype": "text/x-python",
   "name": "python",
   "nbconvert_exporter": "python",
   "pygments_lexer": "ipython3",
   "version": "3.7.4"
  }
 },
 "nbformat": 4,
 "nbformat_minor": 2
}
