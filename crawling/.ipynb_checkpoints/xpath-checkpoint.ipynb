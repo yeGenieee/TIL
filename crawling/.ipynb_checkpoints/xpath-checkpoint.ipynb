{
 "cells": [
  {
   "cell_type": "markdown",
   "metadata": {},
   "source": [
    "## XPATH를 이용해서 크롤링하기\n",
    "\n",
    "- / : 절대경로를 나타냄\n",
    "- // : 문서 내에서 검색\n",
    "- //@href : href 속성이 있는 모든 태그 선택\n",
    "- //a[@href='http://google.com'] : a 태그의 href 속성에 http://google.com 속성값을 가진 모든 태그 선택\n",
    "- (//a)[3] : 문서의 세 번째 링크 선택\n",
    "- (//table)[last()] : 문서의 마지막 테이블 선택\n",
    "- //table/tr/* : 모든 테이블에서 모든 자식 tr 태그 선택\n",
    "- //div[@*] : 속성이 하나라도 있는 div 태그 선택"
   ]
  },
  {
   "cell_type": "code",
   "execution_count": 11,
   "metadata": {},
   "outputs": [
    {
     "name": "stdout",
     "output_type": "stream",
     "text": [
      "오승윤 \"음주운전 방조, 제 잘못..깊이 뉘우치고 있다\" [공식입장]\n",
      "\n"
     ]
    }
   ],
   "source": [
    "from selenium import webdriver\n",
    "\n",
    "options = webdriver.ChromeOptions()\n",
    "options.add_argument('headless')\n",
    "options.add_argument('window-size=1920x1080')\n",
    "options.add_argument(\"disable-gpu\")\n",
    "options.add_argument(\"User-Agent: Mozilla/5.0 (Macintosh; Intel Mac OS X 10_14_4) AppleWebKit/537.36 (KHTML, like Gecko)\")\n",
    "options.add_argument(\"lang=ko_KR\")\n",
    "\n",
    "chromedriver = '/usr/local/Cellar/chromedriver/chromedriver'\n",
    "driver = webdriver.Chrome(chromedriver, options=options)\n",
    "driver.get('https://entertain.v.daum.net/v/20190711174023188')\n",
    "\n",
    "# title = driver.find_element_by_xpath('//*[@id=\"cSub\"]/div/h3')\n",
    "# print(title.text)\n",
    "\n",
    "# title = driver.find_element_by_xpath('/html//title')\n",
    "# print(title.get_attribute('text'))\n",
    "\n",
    "title = driver.find_element_by_xpath(\"//h3[@class='tit_view']\")\n",
    "print(title.text)\n",
    "\n",
    "img = driver.find_element_by_xpath('//*[@id=\"harmonyContainer\"]/section/figure/p/img')\n",
    "print(img.text)\n",
    "\n",
    "driver.quit()"
   ]
  },
  {
   "cell_type": "code",
   "execution_count": null,
   "metadata": {},
   "outputs": [],
   "source": []
  }
 ],
 "metadata": {
  "kernelspec": {
   "display_name": "Python 3",
   "language": "python",
   "name": "python3"
  },
  "language_info": {
   "codemirror_mode": {
    "name": "ipython",
    "version": 3
   },
   "file_extension": ".py",
   "mimetype": "text/x-python",
   "name": "python",
   "nbconvert_exporter": "python",
   "pygments_lexer": "ipython3",
   "version": "3.7.4"
  }
 },
 "nbformat": 4,
 "nbformat_minor": 2
}
